{
 "cells": [
  {
   "cell_type": "code",
   "execution_count": null,
   "source": [
    "import sys\n",
    "sys.path.append(\"..\")\n",
    "import os\n",
    "import torch\n",
    "import torch.nn.functional as F\n",
    "from tqdm import tqdm\n",
    "import numpy as np\n"
   ],
   "outputs": [],
   "metadata": {}
  },
  {
   "cell_type": "code",
   "execution_count": null,
   "source": [
    "import utils.dataset as myDataset\n",
    "import model.model as myModel\n"
   ],
   "outputs": [],
   "metadata": {}
  },
  {
   "cell_type": "code",
   "execution_count": null,
   "source": [
    "arg_batchSize = 8\n",
    "arg_pretrainedModel = \"../model/pretrainedModel/final_facedet.pt\"\n",
    "arg_workers = 8\n",
    "arg_dataset = \"../data/\"\n",
    "arg_split = \"test\"\n",
    "arg_outputPath = \"../data/savings/output\"\n"
   ],
   "outputs": [],
   "metadata": {}
  },
  {
   "cell_type": "code",
   "execution_count": null,
   "source": [
    "dataset = myDataset.FaceDataset()\n",
    "dataloader = torch.utils.data.DataLoader(dataset, shuffle = True, batch_size = arg_batchSize, \\\n",
    "                                         num_workers = arg_workers, drop_last = False)"
   ],
   "outputs": [],
   "metadata": {}
  },
  {
   "cell_type": "code",
   "execution_count": null,
   "source": [
    "model = myModel.FaceKeypointModel()\n",
    "model.load_state_dict(torch.load(arg_pretrainedModel))\n",
    "print(\"Use model from \" + arg_pretrainedModel)\n",
    "device = torch.device(\"cuda:0\" if torch.cuda.is_available() else \"cpu\")\n",
    "\n",
    "model.eval()\n",
    "model.to(device)\n",
    "\n",
    "if not os.path.exists(arg_outputPath):\n",
    "    os.makedirs(arg_outputPath)\n"
   ],
   "outputs": [],
   "metadata": {}
  },
  {
   "cell_type": "code",
   "execution_count": null,
   "source": [
    "with torch.no_grad():\n",
    "    for i, data in tqdm(enumerate(dataloader)):\n",
    "        image, anno = data\n",
    "        image, anno = image.to(device, dtype=torch.float), anno.to(device)\n",
    "        image = image/255.0\n",
    "        \n",
    "        heatMap = model(image)\n"
   ],
   "outputs": [],
   "metadata": {}
  },
  {
   "cell_type": "code",
   "execution_count": null,
   "source": [
    "np.save(arg_outputPath + heatmapName, heatMap)"
   ],
   "outputs": [],
   "metadata": {}
  }
 ],
 "metadata": {
  "orig_nbformat": 4,
  "language_info": {
   "name": "python"
  }
 },
 "nbformat": 4,
 "nbformat_minor": 2
}