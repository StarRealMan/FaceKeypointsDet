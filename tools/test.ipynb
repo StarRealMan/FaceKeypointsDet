{
 "cells": [
  {
   "cell_type": "code",
   "execution_count": null,
   "source": [
    "import sys\n",
    "sys.path.append(\"..\")\n",
    "import os\n",
    "import torch\n",
    "import torch.nn.functional as F\n",
    "from tqdm import tqdm\n",
    "import numpy as np\n",
    "import cv2\n",
    "import matplotlib.pyplot as plt\n"
   ],
   "outputs": [],
   "metadata": {}
  },
  {
   "cell_type": "code",
   "execution_count": null,
   "source": [
    "import utils.dataset as myDataset\n",
    "import model.model as myModel\n",
    "import utils.loss as myLoss\n"
   ],
   "outputs": [],
   "metadata": {}
  },
  {
   "cell_type": "code",
   "execution_count": null,
   "source": [
    "arg_batchSize =32\n",
    "arg_pretrainedModel = \"../model/pretrainedModel/epo24facedet.pt\"\n",
    "arg_workers = 12\n",
    "arg_dataset = \"../data/\"\n",
    "arg_split = \"train\"\n",
    "arg_outputPath = \"../data/savings/output/\"\n",
    "arg_heatmapName = \"_test.npy\""
   ],
   "outputs": [],
   "metadata": {}
  },
  {
   "cell_type": "code",
   "execution_count": null,
   "source": [
    "dataset = myDataset.FaceDataset(datapath = arg_dataset, split = arg_split)\n",
    "dataloader = torch.utils.data.DataLoader(dataset, shuffle = True, batch_size = arg_batchSize, \\\n",
    "                                         num_workers = arg_workers, drop_last = False)"
   ],
   "outputs": [],
   "metadata": {}
  },
  {
   "cell_type": "code",
   "execution_count": null,
   "source": [
    "model = myModel.FaceKeypointModel()\n",
    "model.load_state_dict(torch.load(arg_pretrainedModel))\n",
    "print(\"Use model from \" + arg_pretrainedModel)\n",
    "device = torch.device(\"cuda:0\" if torch.cuda.is_available() else \"cpu\")\n",
    "\n",
    "model.eval()\n",
    "model.to(device)\n",
    "\n",
    "if not os.path.exists(arg_outputPath):\n",
    "    os.makedirs(arg_outputPath)\n",
    "\n",
    "heatmap_num = 0"
   ],
   "outputs": [],
   "metadata": {}
  },
  {
   "cell_type": "code",
   "execution_count": null,
   "source": [
    "with torch.no_grad():\n",
    "    for i, data in tqdm(enumerate(dataloader)):\n",
    "        if arg_split == \"train\":\n",
    "            image, anno, gtmap = data\n",
    "            image, anno, gtmap = image.to(device,  dtype=torch.float), anno.to(device), gtmap.to(device, dtype=torch.float)\n",
    "            image = image/255.0\n",
    "        else:\n",
    "            image = data\n",
    "            image = image.to(device, dtype=torch.float)\n",
    "            image = image/255.0\n",
    "        \n",
    "        heatMaps = model(image)\n",
    "        # heatMaps = F.max_pool2d(heatMaps, 3, 1, 1, 1)\n",
    "        heatmap_num = heatmap_num + 1\n",
    "        \n",
    "        break\n"
   ],
   "outputs": [],
   "metadata": {}
  },
  {
   "cell_type": "code",
   "execution_count": null,
   "source": [
    "criterion = torch.nn.MSELoss()"
   ],
   "outputs": [],
   "metadata": {}
  },
  {
   "cell_type": "code",
   "execution_count": null,
   "source": [
    "heatMap_img = heatMaps[1][0].cpu().numpy()\n",
    "plt.imshow(heatMap_img)\n",
    "\n",
    "plt.figure()\n",
    "gtmap_img = gtmap[1][0].cpu().numpy()\n",
    "plt.imshow(gtmap_img)\n",
    "\n",
    "criterion(heatMaps[1][0], gtmap[1][0])\n"
   ],
   "outputs": [],
   "metadata": {}
  },
  {
   "cell_type": "code",
   "execution_count": null,
   "source": [
    "# visualization\n",
    "batch = 3\n",
    "\n",
    "cv_img = image[batch][0].cpu().numpy()\n",
    "cv_img = cv2.cvtColor(cv_img, cv2.COLOR_GRAY2BGR)\n",
    "\n",
    "kpPos = kpPosList[batch]\n",
    "for kp_center in kpPos:\n",
    "    # print(kp_center)\n",
    "    cv_img = cv2.circle(cv_img, kp_center, 2, (255, 0, 0), 2)\n",
    "\n",
    "plt.imshow(cv_img)"
   ],
   "outputs": [],
   "metadata": {}
  },
  {
   "cell_type": "code",
   "execution_count": null,
   "source": [
    "# generate submit csv\n",
    "kpPosList = []\n",
    "\n",
    "for i in range(heatMaps.shape[0]):\n",
    "    heatMap = heatMaps[i]\n",
    "    kpPos = []\n",
    "    \n",
    "    for kpID in range(15):\n",
    "        heatMapkp = heatMap[kpID]\n",
    "        indices = torch.argmax(heatMapkp, keepdim = True)\n",
    "        y_pos = int(indices.item()/96)\n",
    "        x_pos = indices.item()%96\n",
    "        kpPos.append((x_pos, y_pos))\n",
    "\n",
    "    kpPosList.append(kpPos)"
   ],
   "outputs": [],
   "metadata": {}
  }
 ],
 "metadata": {
  "orig_nbformat": 4,
  "language_info": {
   "name": "python",
   "version": "3.8.8",
   "mimetype": "text/x-python",
   "codemirror_mode": {
    "name": "ipython",
    "version": 3
   },
   "pygments_lexer": "ipython3",
   "nbconvert_exporter": "python",
   "file_extension": ".py"
  },
  "kernelspec": {
   "name": "python3",
   "display_name": "Python 3.8.8 64-bit ('base': conda)"
  },
  "interpreter": {
   "hash": "b89933b722b04da96b1a08b87050e378198849112699c322f4a458dc0a02ab73"
  }
 },
 "nbformat": 4,
 "nbformat_minor": 2
}