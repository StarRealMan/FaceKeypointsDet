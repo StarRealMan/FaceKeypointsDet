{
 "cells": [
  {
   "cell_type": "code",
   "execution_count": 1,
   "source": [
    "import sys\n",
    "sys.path.append(\"..\")\n",
    "import os\n",
    "import torch\n",
    "import torch.nn as nn\n",
    "import torch.nn.functional as F\n",
    "from tqdm import tqdm\n",
    "from torch.utils.tensorboard import SummaryWriter\n"
   ],
   "outputs": [],
   "metadata": {}
  },
  {
   "cell_type": "code",
   "execution_count": 2,
   "source": [
    "import utils.dataset as myDataset\n",
    "import utils.loss as myLoss\n",
    "import model.model as myModel\n"
   ],
   "outputs": [],
   "metadata": {}
  },
  {
   "cell_type": "code",
   "execution_count": 3,
   "source": [
    "arg_batchSize = 72\n",
    "arg_nEpoch = 100\n",
    "arg_pretrainedModel = None\n",
    "# arg_pretrainedModel = \"../model/pretrainedModel/final_facedet.pt\"\n",
    "arg_workers = 12\n",
    "arg_dataset = \"../data/\"\n",
    "arg_split = \"train\"\n",
    "arg_outName = \"facedet.pt\"\n"
   ],
   "outputs": [],
   "metadata": {}
  },
  {
   "cell_type": "code",
   "execution_count": 4,
   "source": [
    "dataset = myDataset.FaceDataset(datapath = arg_dataset, split = arg_split)\n",
    "dataloader = torch.utils.data.DataLoader(dataset, shuffle = True, batch_size = arg_batchSize, \\\n",
    "                                         num_workers = arg_workers, drop_last = False)\n"
   ],
   "outputs": [
    {
     "output_type": "stream",
     "name": "stderr",
     "text": [
      "1001it [00:23, 42.65it/s]\n"
     ]
    }
   ],
   "metadata": {}
  },
  {
   "cell_type": "code",
   "execution_count": 7,
   "source": [
    "writer = SummaryWriter(\"../log/scene\")\n",
    "\n",
    "print(\"length of dataset: %s\" % (len(dataloader)))\n",
    "batch_num = len(dataloader)\n",
    "device = torch.device(\"cuda:0\" if torch.cuda.is_available() else \"cpu\")\n",
    "\n",
    "model = myModel.FaceKeypointModel()\n",
    "model.apply(myModel.weights_init)\n",
    "\n",
    "if arg_pretrainedModel != None:\n",
    "    model.load_state_dict(torch.load(\"../model/\" + arg_pretrainedModel))\n",
    "    print(\"Use model from ../model/\" + arg_pretrainedModel)\n",
    "else:\n",
    "    print(\"Use new model\")\n",
    "\n",
    "if not os.path.exists(\"../model/pretrainedModel\"):\n",
    "    os.makedirs(\"../model/pretrainedModel\")\n",
    "\n",
    "model.cuda()\n",
    "model.train()\n",
    "optimizer = torch.optim.Adam(model.parameters(),lr = 0.00001, betas = (0.9, 0.999))\n",
    "# scheduler = torch.optim.lr_scheduler.StepLR(optimizer, step_size=3, gamma=0.2)\n",
    "criterion = nn.MSELoss()\n",
    "loss_sum = 0"
   ],
   "outputs": [
    {
     "output_type": "stream",
     "name": "stdout",
     "text": [
      "length of dataset: 14\n",
      "Use new model\n"
     ]
    }
   ],
   "metadata": {}
  },
  {
   "cell_type": "code",
   "execution_count": 8,
   "source": [
    "for epoch in tqdm(range(arg_nEpoch)):\n",
    "    for i, data in tqdm(enumerate(dataloader)):\n",
    "\n",
    "        image, anno, gtmap= data\n",
    "        image, anno, gtmap= image.to(device,  dtype=torch.float), anno.to(device), gtmap.to(device, dtype=torch.float)\n",
    "        image = image/255.0\n",
    "        \n",
    "        heatMap = model(image)\n",
    "        \n",
    "        # loss = myLoss.calLossMSE(heatMap, anno, gtmap)\n",
    "        loss = criterion(heatMap, gtmap)\n",
    "        \n",
    "        loss.backward()\n",
    "        optimizer.step()\n",
    "\n",
    "        writer.add_scalar(\"training loss\", loss.item(), epoch*len(dataloader) + i)\n",
    "\n",
    "        loss_sum = loss_sum + loss.item()\n",
    "\n",
    "    print(\"[ epoch: %d/%d  batch: %d/%d ]  loss: %f\" % (epoch, arg_nEpoch, i + 1, batch_num, loss_sum))\n",
    "    loss_sum = 0\n",
    "    if epoch % 5 == 4:\n",
    "        torch.save(model.state_dict(), \"../model/pretrainedModel/epo\" + str(epoch) + arg_outName)\n",
    "        print(\"Model saved at ../model/pretrainedModel/epo\" + str(epoch) + arg_outName)\n"
   ],
   "outputs": [
    {
     "output_type": "stream",
     "name": "stderr",
     "text": [
      "14it [00:11,  1.21it/s]\n",
      "  1%|          | 1/100 [00:11<19:36, 11.89s/it]"
     ]
    },
    {
     "output_type": "stream",
     "name": "stdout",
     "text": [
      "[ epoch: 0/100  batch: 14/14 ]  loss: 3.388014\n"
     ]
    },
    {
     "output_type": "stream",
     "name": "stderr",
     "text": [
      "14it [00:11,  1.18it/s]\n",
      "  2%|▏         | 2/100 [00:24<19:39, 12.04s/it]"
     ]
    },
    {
     "output_type": "stream",
     "name": "stdout",
     "text": [
      "[ epoch: 1/100  batch: 14/14 ]  loss: 3.271767\n"
     ]
    },
    {
     "output_type": "stream",
     "name": "stderr",
     "text": [
      "14it [00:12,  1.11it/s]\n",
      "  3%|▎         | 3/100 [00:36<20:04, 12.42s/it]"
     ]
    },
    {
     "output_type": "stream",
     "name": "stdout",
     "text": [
      "[ epoch: 2/100  batch: 14/14 ]  loss: 3.144182\n"
     ]
    },
    {
     "output_type": "stream",
     "name": "stderr",
     "text": [
      "14it [00:12,  1.11it/s]\n",
      "  4%|▍         | 4/100 [00:49<20:12, 12.63s/it]"
     ]
    },
    {
     "output_type": "stream",
     "name": "stdout",
     "text": [
      "[ epoch: 3/100  batch: 14/14 ]  loss: 3.009350\n"
     ]
    },
    {
     "output_type": "stream",
     "name": "stderr",
     "text": [
      "14it [00:12,  1.10it/s]\n",
      "  5%|▌         | 5/100 [01:02<20:14, 12.78s/it]"
     ]
    },
    {
     "output_type": "stream",
     "name": "stdout",
     "text": [
      "[ epoch: 4/100  batch: 14/14 ]  loss: 2.871408\n",
      "Model saved at ../model/pretrainedModel/epo4facedet.pt\n"
     ]
    },
    {
     "output_type": "stream",
     "name": "stderr",
     "text": [
      "14it [00:12,  1.11it/s]\n",
      "  6%|▌         | 6/100 [01:15<20:04, 12.81s/it]"
     ]
    },
    {
     "output_type": "stream",
     "name": "stdout",
     "text": [
      "[ epoch: 5/100  batch: 14/14 ]  loss: 2.731901\n"
     ]
    },
    {
     "output_type": "stream",
     "name": "stderr",
     "text": [
      "14it [00:12,  1.11it/s]\n",
      "  7%|▋         | 7/100 [01:28<19:54, 12.85s/it]"
     ]
    },
    {
     "output_type": "stream",
     "name": "stdout",
     "text": [
      "[ epoch: 6/100  batch: 14/14 ]  loss: 2.593899\n"
     ]
    },
    {
     "output_type": "stream",
     "name": "stderr",
     "text": [
      "14it [00:12,  1.11it/s]\n",
      "  8%|▊         | 8/100 [01:41<19:43, 12.87s/it]"
     ]
    },
    {
     "output_type": "stream",
     "name": "stdout",
     "text": [
      "[ epoch: 7/100  batch: 14/14 ]  loss: 2.457468\n"
     ]
    },
    {
     "output_type": "stream",
     "name": "stderr",
     "text": [
      "14it [00:12,  1.11it/s]\n",
      "  9%|▉         | 9/100 [01:54<19:30, 12.86s/it]"
     ]
    },
    {
     "output_type": "stream",
     "name": "stdout",
     "text": [
      "[ epoch: 8/100  batch: 14/14 ]  loss: 2.325039\n"
     ]
    },
    {
     "output_type": "stream",
     "name": "stderr",
     "text": [
      "14it [00:12,  1.11it/s]\n",
      " 10%|█         | 10/100 [02:07<19:19, 12.88s/it]"
     ]
    },
    {
     "output_type": "stream",
     "name": "stdout",
     "text": [
      "[ epoch: 9/100  batch: 14/14 ]  loss: 2.195958\n",
      "Model saved at ../model/pretrainedModel/epo9facedet.pt\n"
     ]
    },
    {
     "output_type": "stream",
     "name": "stderr",
     "text": [
      "14it [00:12,  1.11it/s]\n",
      " 11%|█         | 11/100 [02:20<19:06, 12.88s/it]"
     ]
    },
    {
     "output_type": "stream",
     "name": "stdout",
     "text": [
      "[ epoch: 10/100  batch: 14/14 ]  loss: 2.070710\n"
     ]
    },
    {
     "output_type": "stream",
     "name": "stderr",
     "text": [
      "14it [00:12,  1.12it/s]\n",
      " 12%|█▏        | 12/100 [02:33<18:51, 12.85s/it]"
     ]
    },
    {
     "output_type": "stream",
     "name": "stdout",
     "text": [
      "[ epoch: 11/100  batch: 14/14 ]  loss: 1.949954\n"
     ]
    },
    {
     "output_type": "stream",
     "name": "stderr",
     "text": [
      "14it [00:12,  1.11it/s]\n",
      " 13%|█▎        | 13/100 [02:45<18:38, 12.86s/it]"
     ]
    },
    {
     "output_type": "stream",
     "name": "stdout",
     "text": [
      "[ epoch: 12/100  batch: 14/14 ]  loss: 1.834053\n"
     ]
    },
    {
     "output_type": "stream",
     "name": "stderr",
     "text": [
      "14it [00:12,  1.11it/s]\n",
      " 14%|█▍        | 14/100 [02:58<18:27, 12.87s/it]"
     ]
    },
    {
     "output_type": "stream",
     "name": "stdout",
     "text": [
      "[ epoch: 13/100  batch: 14/14 ]  loss: 1.723446\n"
     ]
    },
    {
     "output_type": "stream",
     "name": "stderr",
     "text": [
      "14it [00:12,  1.12it/s]\n",
      " 15%|█▌        | 15/100 [03:11<18:13, 12.87s/it]"
     ]
    },
    {
     "output_type": "stream",
     "name": "stdout",
     "text": [
      "[ epoch: 14/100  batch: 14/14 ]  loss: 1.617838\n",
      "Model saved at ../model/pretrainedModel/epo14facedet.pt\n"
     ]
    },
    {
     "output_type": "stream",
     "name": "stderr",
     "text": [
      "14it [00:12,  1.11it/s]\n",
      " 16%|█▌        | 16/100 [03:24<18:01, 12.87s/it]"
     ]
    },
    {
     "output_type": "stream",
     "name": "stdout",
     "text": [
      "[ epoch: 15/100  batch: 14/14 ]  loss: 1.517262\n"
     ]
    },
    {
     "output_type": "stream",
     "name": "stderr",
     "text": [
      "14it [00:12,  1.11it/s]\n",
      " 17%|█▋        | 17/100 [03:37<17:49, 12.88s/it]"
     ]
    },
    {
     "output_type": "stream",
     "name": "stdout",
     "text": [
      "[ epoch: 16/100  batch: 14/14 ]  loss: 1.421920\n"
     ]
    },
    {
     "output_type": "stream",
     "name": "stderr",
     "text": [
      "14it [00:12,  1.11it/s]\n",
      " 18%|█▊        | 18/100 [03:50<17:36, 12.88s/it]"
     ]
    },
    {
     "output_type": "stream",
     "name": "stdout",
     "text": [
      "[ epoch: 17/100  batch: 14/14 ]  loss: 1.331748\n"
     ]
    },
    {
     "output_type": "stream",
     "name": "stderr",
     "text": [
      "14it [00:12,  1.13it/s]\n",
      " 19%|█▉        | 19/100 [04:02<17:17, 12.81s/it]"
     ]
    },
    {
     "output_type": "stream",
     "name": "stdout",
     "text": [
      "[ epoch: 18/100  batch: 14/14 ]  loss: 1.247499\n"
     ]
    },
    {
     "output_type": "stream",
     "name": "stderr",
     "text": [
      "14it [00:12,  1.16it/s]\n",
      " 20%|██        | 20/100 [04:15<16:54, 12.69s/it]"
     ]
    },
    {
     "output_type": "stream",
     "name": "stdout",
     "text": [
      "[ epoch: 19/100  batch: 14/14 ]  loss: 1.166448\n",
      "Model saved at ../model/pretrainedModel/epo19facedet.pt\n"
     ]
    },
    {
     "output_type": "stream",
     "name": "stderr",
     "text": [
      "14it [00:12,  1.16it/s]\n",
      " 21%|██        | 21/100 [04:27<16:35, 12.60s/it]"
     ]
    },
    {
     "output_type": "stream",
     "name": "stdout",
     "text": [
      "[ epoch: 20/100  batch: 14/14 ]  loss: 1.090860\n"
     ]
    },
    {
     "output_type": "stream",
     "name": "stderr",
     "text": [
      "14it [00:12,  1.16it/s]\n",
      " 22%|██▏       | 22/100 [04:40<16:18, 12.54s/it]"
     ]
    },
    {
     "output_type": "stream",
     "name": "stdout",
     "text": [
      "[ epoch: 21/100  batch: 14/14 ]  loss: 1.020351\n"
     ]
    },
    {
     "output_type": "stream",
     "name": "stderr",
     "text": [
      "14it [00:12,  1.16it/s]\n",
      " 23%|██▎       | 23/100 [04:52<16:02, 12.50s/it]"
     ]
    },
    {
     "output_type": "stream",
     "name": "stdout",
     "text": [
      "[ epoch: 22/100  batch: 14/14 ]  loss: 0.953855\n"
     ]
    },
    {
     "output_type": "stream",
     "name": "stderr",
     "text": [
      "14it [00:12,  1.16it/s]\n",
      " 24%|██▍       | 24/100 [05:04<15:47, 12.47s/it]"
     ]
    },
    {
     "output_type": "stream",
     "name": "stdout",
     "text": [
      "[ epoch: 23/100  batch: 14/14 ]  loss: 0.891154\n"
     ]
    },
    {
     "output_type": "stream",
     "name": "stderr",
     "text": [
      "14it [00:12,  1.16it/s]\n",
      " 25%|██▌       | 25/100 [05:17<15:34, 12.45s/it]"
     ]
    },
    {
     "output_type": "stream",
     "name": "stdout",
     "text": [
      "[ epoch: 24/100  batch: 14/14 ]  loss: 0.832981\n",
      "Model saved at ../model/pretrainedModel/epo24facedet.pt\n"
     ]
    },
    {
     "output_type": "stream",
     "name": "stderr",
     "text": [
      "14it [00:12,  1.16it/s]\n",
      " 26%|██▌       | 26/100 [05:29<15:20, 12.44s/it]"
     ]
    },
    {
     "output_type": "stream",
     "name": "stdout",
     "text": [
      "[ epoch: 25/100  batch: 14/14 ]  loss: 0.778519\n"
     ]
    },
    {
     "output_type": "stream",
     "name": "stderr",
     "text": [
      "14it [00:12,  1.15it/s]\n",
      " 27%|██▋       | 27/100 [05:42<15:07, 12.44s/it]"
     ]
    },
    {
     "output_type": "stream",
     "name": "stdout",
     "text": [
      "[ epoch: 26/100  batch: 14/14 ]  loss: 0.727944\n"
     ]
    },
    {
     "output_type": "stream",
     "name": "stderr",
     "text": [
      "14it [00:12,  1.16it/s]\n",
      " 28%|██▊       | 28/100 [05:54<14:54, 12.43s/it]"
     ]
    },
    {
     "output_type": "stream",
     "name": "stdout",
     "text": [
      "[ epoch: 27/100  batch: 14/14 ]  loss: 0.680539\n"
     ]
    },
    {
     "output_type": "stream",
     "name": "stderr",
     "text": [
      "14it [00:12,  1.16it/s]\n",
      " 29%|██▉       | 29/100 [06:07<14:41, 12.42s/it]"
     ]
    },
    {
     "output_type": "stream",
     "name": "stdout",
     "text": [
      "[ epoch: 28/100  batch: 14/14 ]  loss: 0.637050\n"
     ]
    },
    {
     "output_type": "stream",
     "name": "stderr",
     "text": [
      "14it [00:12,  1.15it/s]\n",
      " 30%|███       | 30/100 [06:19<14:29, 12.43s/it]"
     ]
    },
    {
     "output_type": "stream",
     "name": "stdout",
     "text": [
      "[ epoch: 29/100  batch: 14/14 ]  loss: 0.596667\n",
      "Model saved at ../model/pretrainedModel/epo29facedet.pt\n"
     ]
    },
    {
     "output_type": "stream",
     "name": "stderr",
     "text": [
      "14it [00:12,  1.16it/s]\n",
      " 31%|███       | 31/100 [06:31<14:16, 12.42s/it]"
     ]
    },
    {
     "output_type": "stream",
     "name": "stdout",
     "text": [
      "[ epoch: 30/100  batch: 14/14 ]  loss: 0.559621\n"
     ]
    },
    {
     "output_type": "stream",
     "name": "stderr",
     "text": [
      "14it [00:12,  1.15it/s]\n",
      " 32%|███▏      | 32/100 [06:44<14:04, 12.42s/it]"
     ]
    },
    {
     "output_type": "stream",
     "name": "stdout",
     "text": [
      "[ epoch: 31/100  batch: 14/14 ]  loss: 0.524926\n"
     ]
    },
    {
     "output_type": "stream",
     "name": "stderr",
     "text": [
      "14it [00:12,  1.16it/s]\n",
      " 33%|███▎      | 33/100 [06:56<13:51, 12.41s/it]"
     ]
    },
    {
     "output_type": "stream",
     "name": "stdout",
     "text": [
      "[ epoch: 32/100  batch: 14/14 ]  loss: 0.492575\n"
     ]
    },
    {
     "output_type": "stream",
     "name": "stderr",
     "text": [
      "14it [00:12,  1.16it/s]\n",
      " 34%|███▍      | 34/100 [07:09<13:38, 12.41s/it]"
     ]
    },
    {
     "output_type": "stream",
     "name": "stdout",
     "text": [
      "[ epoch: 33/100  batch: 14/14 ]  loss: 0.463063\n"
     ]
    },
    {
     "output_type": "stream",
     "name": "stderr",
     "text": [
      "14it [00:12,  1.16it/s]\n",
      " 35%|███▌      | 35/100 [07:21<13:26, 12.41s/it]"
     ]
    },
    {
     "output_type": "stream",
     "name": "stdout",
     "text": [
      "[ epoch: 34/100  batch: 14/14 ]  loss: 0.434905\n",
      "Model saved at ../model/pretrainedModel/epo34facedet.pt\n"
     ]
    },
    {
     "output_type": "stream",
     "name": "stderr",
     "text": [
      "14it [00:12,  1.15it/s]\n",
      " 36%|███▌      | 36/100 [07:33<13:15, 12.43s/it]"
     ]
    },
    {
     "output_type": "stream",
     "name": "stdout",
     "text": [
      "[ epoch: 35/100  batch: 14/14 ]  loss: 0.409804\n"
     ]
    },
    {
     "output_type": "stream",
     "name": "stderr",
     "text": [
      "14it [00:12,  1.15it/s]\n",
      " 37%|███▋      | 37/100 [07:46<13:03, 12.43s/it]"
     ]
    },
    {
     "output_type": "stream",
     "name": "stdout",
     "text": [
      "[ epoch: 36/100  batch: 14/14 ]  loss: 0.386628\n"
     ]
    },
    {
     "output_type": "stream",
     "name": "stderr",
     "text": [
      "14it [00:12,  1.15it/s]\n",
      " 38%|███▊      | 38/100 [07:58<12:50, 12.42s/it]"
     ]
    },
    {
     "output_type": "stream",
     "name": "stdout",
     "text": [
      "[ epoch: 37/100  batch: 14/14 ]  loss: 0.365445\n"
     ]
    },
    {
     "output_type": "stream",
     "name": "stderr",
     "text": [
      "14it [00:12,  1.16it/s]\n",
      " 39%|███▉      | 39/100 [08:11<12:37, 12.42s/it]"
     ]
    },
    {
     "output_type": "stream",
     "name": "stdout",
     "text": [
      "[ epoch: 38/100  batch: 14/14 ]  loss: 0.346034\n"
     ]
    },
    {
     "output_type": "stream",
     "name": "stderr",
     "text": [
      "14it [00:12,  1.16it/s]\n",
      " 40%|████      | 40/100 [08:23<12:24, 12.41s/it]"
     ]
    },
    {
     "output_type": "stream",
     "name": "stdout",
     "text": [
      "[ epoch: 39/100  batch: 14/14 ]  loss: 0.328555\n",
      "Model saved at ../model/pretrainedModel/epo39facedet.pt\n"
     ]
    },
    {
     "output_type": "stream",
     "name": "stderr",
     "text": [
      "14it [00:12,  1.15it/s]\n",
      " 41%|████      | 41/100 [08:36<12:12, 12.41s/it]"
     ]
    },
    {
     "output_type": "stream",
     "name": "stdout",
     "text": [
      "[ epoch: 40/100  batch: 14/14 ]  loss: 0.312256\n"
     ]
    },
    {
     "output_type": "stream",
     "name": "stderr",
     "text": [
      "14it [00:12,  1.15it/s]\n",
      " 42%|████▏     | 42/100 [08:48<11:59, 12.41s/it]"
     ]
    },
    {
     "output_type": "stream",
     "name": "stdout",
     "text": [
      "[ epoch: 41/100  batch: 14/14 ]  loss: 0.296983\n"
     ]
    },
    {
     "output_type": "stream",
     "name": "stderr",
     "text": [
      "14it [00:12,  1.16it/s]\n",
      " 43%|████▎     | 43/100 [09:00<11:47, 12.41s/it]"
     ]
    },
    {
     "output_type": "stream",
     "name": "stdout",
     "text": [
      "[ epoch: 42/100  batch: 14/14 ]  loss: 0.283175\n"
     ]
    },
    {
     "output_type": "stream",
     "name": "stderr",
     "text": [
      "14it [00:12,  1.16it/s]\n",
      " 44%|████▍     | 44/100 [09:13<11:34, 12.41s/it]"
     ]
    },
    {
     "output_type": "stream",
     "name": "stdout",
     "text": [
      "[ epoch: 43/100  batch: 14/14 ]  loss: 0.270594\n"
     ]
    },
    {
     "output_type": "stream",
     "name": "stderr",
     "text": [
      "14it [00:12,  1.16it/s]\n",
      " 45%|████▌     | 45/100 [09:25<11:22, 12.41s/it]"
     ]
    },
    {
     "output_type": "stream",
     "name": "stdout",
     "text": [
      "[ epoch: 44/100  batch: 14/14 ]  loss: 0.259185\n",
      "Model saved at ../model/pretrainedModel/epo44facedet.pt\n"
     ]
    },
    {
     "output_type": "stream",
     "name": "stderr",
     "text": [
      "14it [00:12,  1.15it/s]\n",
      " 46%|████▌     | 46/100 [09:38<11:10, 12.41s/it]"
     ]
    },
    {
     "output_type": "stream",
     "name": "stdout",
     "text": [
      "[ epoch: 45/100  batch: 14/14 ]  loss: 0.248406\n"
     ]
    },
    {
     "output_type": "stream",
     "name": "stderr",
     "text": [
      "14it [00:12,  1.16it/s]\n",
      " 47%|████▋     | 47/100 [09:50<10:57, 12.40s/it]"
     ]
    },
    {
     "output_type": "stream",
     "name": "stdout",
     "text": [
      "[ epoch: 46/100  batch: 14/14 ]  loss: 0.238868\n"
     ]
    },
    {
     "output_type": "stream",
     "name": "stderr",
     "text": [
      "14it [00:12,  1.16it/s]\n",
      " 48%|████▊     | 48/100 [10:02<10:44, 12.40s/it]"
     ]
    },
    {
     "output_type": "stream",
     "name": "stdout",
     "text": [
      "[ epoch: 47/100  batch: 14/14 ]  loss: 0.230171\n"
     ]
    },
    {
     "output_type": "stream",
     "name": "stderr",
     "text": [
      "14it [00:12,  1.16it/s]\n",
      " 49%|████▉     | 49/100 [10:15<10:32, 12.40s/it]"
     ]
    },
    {
     "output_type": "stream",
     "name": "stdout",
     "text": [
      "[ epoch: 48/100  batch: 14/14 ]  loss: 0.222309\n"
     ]
    },
    {
     "output_type": "stream",
     "name": "stderr",
     "text": [
      "14it [00:12,  1.16it/s]\n",
      " 50%|█████     | 50/100 [10:27<10:19, 12.40s/it]"
     ]
    },
    {
     "output_type": "stream",
     "name": "stdout",
     "text": [
      "[ epoch: 49/100  batch: 14/14 ]  loss: 0.215307\n",
      "Model saved at ../model/pretrainedModel/epo49facedet.pt\n"
     ]
    },
    {
     "output_type": "stream",
     "name": "stderr",
     "text": [
      "14it [00:12,  1.16it/s]\n",
      " 51%|█████     | 51/100 [10:40<10:07, 12.40s/it]"
     ]
    },
    {
     "output_type": "stream",
     "name": "stdout",
     "text": [
      "[ epoch: 50/100  batch: 14/14 ]  loss: 0.208661\n"
     ]
    },
    {
     "output_type": "stream",
     "name": "stderr",
     "text": [
      "14it [00:12,  1.16it/s]\n",
      " 52%|█████▏    | 52/100 [10:52<09:55, 12.40s/it]"
     ]
    },
    {
     "output_type": "stream",
     "name": "stdout",
     "text": [
      "[ epoch: 51/100  batch: 14/14 ]  loss: 0.202568\n"
     ]
    },
    {
     "output_type": "stream",
     "name": "stderr",
     "text": [
      "14it [00:12,  1.16it/s]\n",
      " 53%|█████▎    | 53/100 [11:04<09:42, 12.40s/it]"
     ]
    },
    {
     "output_type": "stream",
     "name": "stdout",
     "text": [
      "[ epoch: 52/100  batch: 14/14 ]  loss: 0.197181\n"
     ]
    },
    {
     "output_type": "stream",
     "name": "stderr",
     "text": [
      "14it [00:12,  1.16it/s]\n",
      " 54%|█████▍    | 54/100 [11:17<09:30, 12.40s/it]"
     ]
    },
    {
     "output_type": "stream",
     "name": "stdout",
     "text": [
      "[ epoch: 53/100  batch: 14/14 ]  loss: 0.192335\n"
     ]
    },
    {
     "output_type": "stream",
     "name": "stderr",
     "text": [
      "14it [00:12,  1.16it/s]\n",
      " 55%|█████▌    | 55/100 [11:29<09:18, 12.40s/it]"
     ]
    },
    {
     "output_type": "stream",
     "name": "stdout",
     "text": [
      "[ epoch: 54/100  batch: 14/14 ]  loss: 0.187909\n",
      "Model saved at ../model/pretrainedModel/epo54facedet.pt\n"
     ]
    },
    {
     "output_type": "stream",
     "name": "stderr",
     "text": [
      "14it [00:12,  1.15it/s]\n",
      " 56%|█████▌    | 56/100 [11:42<09:06, 12.41s/it]"
     ]
    },
    {
     "output_type": "stream",
     "name": "stdout",
     "text": [
      "[ epoch: 55/100  batch: 14/14 ]  loss: 0.183919\n"
     ]
    },
    {
     "output_type": "stream",
     "name": "stderr",
     "text": [
      "14it [00:12,  1.14it/s]\n",
      " 57%|█████▋    | 57/100 [11:54<08:55, 12.46s/it]"
     ]
    },
    {
     "output_type": "stream",
     "name": "stdout",
     "text": [
      "[ epoch: 56/100  batch: 14/14 ]  loss: 0.180136\n"
     ]
    },
    {
     "output_type": "stream",
     "name": "stderr",
     "text": [
      "14it [00:12,  1.15it/s]\n",
      " 58%|█████▊    | 58/100 [12:07<08:43, 12.47s/it]"
     ]
    },
    {
     "output_type": "stream",
     "name": "stdout",
     "text": [
      "[ epoch: 57/100  batch: 14/14 ]  loss: 0.176834\n"
     ]
    },
    {
     "output_type": "stream",
     "name": "stderr",
     "text": [
      "14it [00:12,  1.15it/s]\n",
      " 59%|█████▉    | 59/100 [12:19<08:31, 12.48s/it]"
     ]
    },
    {
     "output_type": "stream",
     "name": "stdout",
     "text": [
      "[ epoch: 58/100  batch: 14/14 ]  loss: 0.173731\n"
     ]
    },
    {
     "output_type": "stream",
     "name": "stderr",
     "text": [
      "14it [00:12,  1.14it/s]\n",
      " 60%|██████    | 60/100 [12:32<08:19, 12.49s/it]"
     ]
    },
    {
     "output_type": "stream",
     "name": "stdout",
     "text": [
      "[ epoch: 59/100  batch: 14/14 ]  loss: 0.170961\n",
      "Model saved at ../model/pretrainedModel/epo59facedet.pt\n"
     ]
    },
    {
     "output_type": "stream",
     "name": "stderr",
     "text": [
      "14it [00:12,  1.14it/s]\n",
      " 61%|██████    | 61/100 [12:44<08:07, 12.50s/it]"
     ]
    },
    {
     "output_type": "stream",
     "name": "stdout",
     "text": [
      "[ epoch: 60/100  batch: 14/14 ]  loss: 0.168434\n"
     ]
    },
    {
     "output_type": "stream",
     "name": "stderr",
     "text": [
      "14it [00:12,  1.14it/s]\n",
      " 62%|██████▏   | 62/100 [12:57<07:55, 12.51s/it]"
     ]
    },
    {
     "output_type": "stream",
     "name": "stdout",
     "text": [
      "[ epoch: 61/100  batch: 14/14 ]  loss: 0.166168\n"
     ]
    },
    {
     "output_type": "stream",
     "name": "stderr",
     "text": [
      "14it [00:12,  1.14it/s]\n",
      " 63%|██████▎   | 63/100 [13:09<07:42, 12.51s/it]"
     ]
    },
    {
     "output_type": "stream",
     "name": "stdout",
     "text": [
      "[ epoch: 62/100  batch: 14/14 ]  loss: 0.164143\n"
     ]
    },
    {
     "output_type": "stream",
     "name": "stderr",
     "text": [
      "14it [00:12,  1.15it/s]\n",
      " 64%|██████▍   | 64/100 [13:22<07:30, 12.51s/it]"
     ]
    },
    {
     "output_type": "stream",
     "name": "stdout",
     "text": [
      "[ epoch: 63/100  batch: 14/14 ]  loss: 0.162309\n"
     ]
    },
    {
     "output_type": "stream",
     "name": "stderr",
     "text": [
      "14it [00:12,  1.15it/s]\n",
      " 65%|██████▌   | 65/100 [13:34<07:18, 12.52s/it]"
     ]
    },
    {
     "output_type": "stream",
     "name": "stdout",
     "text": [
      "[ epoch: 64/100  batch: 14/14 ]  loss: 0.160717\n",
      "Model saved at ../model/pretrainedModel/epo64facedet.pt\n"
     ]
    },
    {
     "output_type": "stream",
     "name": "stderr",
     "text": [
      "14it [00:12,  1.13it/s]\n",
      " 66%|██████▌   | 66/100 [13:47<07:07, 12.56s/it]"
     ]
    },
    {
     "output_type": "stream",
     "name": "stdout",
     "text": [
      "[ epoch: 65/100  batch: 14/14 ]  loss: 0.159293\n"
     ]
    },
    {
     "output_type": "stream",
     "name": "stderr",
     "text": [
      "14it [00:12,  1.16it/s]\n",
      " 67%|██████▋   | 67/100 [13:59<06:53, 12.53s/it]"
     ]
    },
    {
     "output_type": "stream",
     "name": "stdout",
     "text": [
      "[ epoch: 66/100  batch: 14/14 ]  loss: 0.157965\n"
     ]
    },
    {
     "output_type": "stream",
     "name": "stderr",
     "text": [
      "14it [00:12,  1.16it/s]\n",
      " 68%|██████▊   | 68/100 [14:12<06:39, 12.49s/it]"
     ]
    },
    {
     "output_type": "stream",
     "name": "stdout",
     "text": [
      "[ epoch: 67/100  batch: 14/14 ]  loss: 0.156789\n"
     ]
    },
    {
     "output_type": "stream",
     "name": "stderr",
     "text": [
      "14it [00:12,  1.16it/s]\n",
      " 69%|██████▉   | 69/100 [14:24<06:26, 12.46s/it]"
     ]
    },
    {
     "output_type": "stream",
     "name": "stdout",
     "text": [
      "[ epoch: 68/100  batch: 14/14 ]  loss: 0.155749\n"
     ]
    },
    {
     "output_type": "stream",
     "name": "stderr",
     "text": [
      "14it [00:12,  1.16it/s]\n",
      " 70%|███████   | 70/100 [14:37<06:13, 12.45s/it]"
     ]
    },
    {
     "output_type": "stream",
     "name": "stdout",
     "text": [
      "[ epoch: 69/100  batch: 14/14 ]  loss: 0.154812\n",
      "Model saved at ../model/pretrainedModel/epo69facedet.pt\n"
     ]
    },
    {
     "output_type": "stream",
     "name": "stderr",
     "text": [
      "14it [00:12,  1.15it/s]\n",
      " 71%|███████   | 71/100 [14:49<06:00, 12.44s/it]"
     ]
    },
    {
     "output_type": "stream",
     "name": "stdout",
     "text": [
      "[ epoch: 70/100  batch: 14/14 ]  loss: 0.153972\n"
     ]
    },
    {
     "output_type": "stream",
     "name": "stderr",
     "text": [
      "14it [00:12,  1.16it/s]\n",
      " 72%|███████▏  | 72/100 [15:01<05:47, 12.43s/it]"
     ]
    },
    {
     "output_type": "stream",
     "name": "stdout",
     "text": [
      "[ epoch: 71/100  batch: 14/14 ]  loss: 0.153211\n"
     ]
    },
    {
     "output_type": "stream",
     "name": "stderr",
     "text": [
      "14it [00:13,  1.05it/s]\n",
      " 73%|███████▎  | 73/100 [15:15<05:44, 12.78s/it]"
     ]
    },
    {
     "output_type": "stream",
     "name": "stdout",
     "text": [
      "[ epoch: 72/100  batch: 14/14 ]  loss: 0.152544\n"
     ]
    },
    {
     "output_type": "stream",
     "name": "stderr",
     "text": [
      "14it [00:14,  1.03s/it]\n",
      " 74%|███████▍  | 74/100 [15:30<05:47, 13.37s/it]"
     ]
    },
    {
     "output_type": "stream",
     "name": "stdout",
     "text": [
      "[ epoch: 73/100  batch: 14/14 ]  loss: 0.151975\n"
     ]
    },
    {
     "output_type": "stream",
     "name": "stderr",
     "text": [
      "14it [00:12,  1.11it/s]\n",
      " 75%|███████▌  | 75/100 [15:43<05:31, 13.26s/it]"
     ]
    },
    {
     "output_type": "stream",
     "name": "stdout",
     "text": [
      "[ epoch: 74/100  batch: 14/14 ]  loss: 0.151417\n",
      "Model saved at ../model/pretrainedModel/epo74facedet.pt\n"
     ]
    },
    {
     "output_type": "stream",
     "name": "stderr",
     "text": [
      "14it [00:12,  1.16it/s]\n",
      " 76%|███████▌  | 76/100 [15:55<05:12, 13.00s/it]"
     ]
    },
    {
     "output_type": "stream",
     "name": "stdout",
     "text": [
      "[ epoch: 75/100  batch: 14/14 ]  loss: 0.150972\n"
     ]
    },
    {
     "output_type": "stream",
     "name": "stderr",
     "text": [
      "14it [00:12,  1.16it/s]\n",
      " 77%|███████▋  | 77/100 [16:08<04:54, 12.82s/it]"
     ]
    },
    {
     "output_type": "stream",
     "name": "stdout",
     "text": [
      "[ epoch: 76/100  batch: 14/14 ]  loss: 0.150571\n"
     ]
    },
    {
     "output_type": "stream",
     "name": "stderr",
     "text": [
      "14it [00:12,  1.16it/s]\n",
      " 78%|███████▊  | 78/100 [16:20<04:39, 12.69s/it]"
     ]
    },
    {
     "output_type": "stream",
     "name": "stdout",
     "text": [
      "[ epoch: 77/100  batch: 14/14 ]  loss: 0.150228\n"
     ]
    },
    {
     "output_type": "stream",
     "name": "stderr",
     "text": [
      "14it [00:12,  1.16it/s]\n",
      " 79%|███████▉  | 79/100 [16:32<04:24, 12.60s/it]"
     ]
    },
    {
     "output_type": "stream",
     "name": "stdout",
     "text": [
      "[ epoch: 78/100  batch: 14/14 ]  loss: 0.149903\n"
     ]
    },
    {
     "output_type": "stream",
     "name": "stderr",
     "text": [
      "14it [00:12,  1.16it/s]\n",
      " 80%|████████  | 80/100 [16:45<04:10, 12.54s/it]"
     ]
    },
    {
     "output_type": "stream",
     "name": "stdout",
     "text": [
      "[ epoch: 79/100  batch: 14/14 ]  loss: 0.149659\n",
      "Model saved at ../model/pretrainedModel/epo79facedet.pt\n"
     ]
    },
    {
     "output_type": "stream",
     "name": "stderr",
     "text": [
      "14it [00:12,  1.11it/s]\n",
      " 81%|████████  | 81/100 [16:58<04:00, 12.66s/it]"
     ]
    },
    {
     "output_type": "stream",
     "name": "stdout",
     "text": [
      "[ epoch: 80/100  batch: 14/14 ]  loss: 0.149441\n"
     ]
    },
    {
     "output_type": "stream",
     "name": "stderr",
     "text": [
      "14it [00:12,  1.13it/s]\n",
      " 82%|████████▏ | 82/100 [17:10<03:48, 12.69s/it]"
     ]
    },
    {
     "output_type": "stream",
     "name": "stdout",
     "text": [
      "[ epoch: 81/100  batch: 14/14 ]  loss: 0.149266\n"
     ]
    },
    {
     "output_type": "stream",
     "name": "stderr",
     "text": [
      "14it [00:12,  1.16it/s]\n",
      " 83%|████████▎ | 83/100 [17:23<03:34, 12.61s/it]"
     ]
    },
    {
     "output_type": "stream",
     "name": "stdout",
     "text": [
      "[ epoch: 82/100  batch: 14/14 ]  loss: 0.149094\n"
     ]
    },
    {
     "output_type": "stream",
     "name": "stderr",
     "text": [
      "14it [00:12,  1.15it/s]\n",
      " 84%|████████▍ | 84/100 [17:35<03:20, 12.55s/it]"
     ]
    },
    {
     "output_type": "stream",
     "name": "stdout",
     "text": [
      "[ epoch: 83/100  batch: 14/14 ]  loss: 0.148980\n"
     ]
    },
    {
     "output_type": "stream",
     "name": "stderr",
     "text": [
      "14it [00:12,  1.16it/s]\n",
      " 85%|████████▌ | 85/100 [17:48<03:07, 12.51s/it]"
     ]
    },
    {
     "output_type": "stream",
     "name": "stdout",
     "text": [
      "[ epoch: 84/100  batch: 14/14 ]  loss: 0.148886\n",
      "Model saved at ../model/pretrainedModel/epo84facedet.pt\n"
     ]
    },
    {
     "output_type": "stream",
     "name": "stderr",
     "text": [
      "14it [00:12,  1.16it/s]\n",
      " 86%|████████▌ | 86/100 [18:00<02:54, 12.47s/it]"
     ]
    },
    {
     "output_type": "stream",
     "name": "stdout",
     "text": [
      "[ epoch: 85/100  batch: 14/14 ]  loss: 0.148812\n"
     ]
    },
    {
     "output_type": "stream",
     "name": "stderr",
     "text": [
      "14it [00:12,  1.14it/s]\n",
      " 87%|████████▋ | 87/100 [18:13<02:42, 12.49s/it]"
     ]
    },
    {
     "output_type": "stream",
     "name": "stdout",
     "text": [
      "[ epoch: 86/100  batch: 14/14 ]  loss: 0.148765\n"
     ]
    },
    {
     "output_type": "stream",
     "name": "stderr",
     "text": [
      "14it [00:12,  1.15it/s]\n",
      " 88%|████████▊ | 88/100 [18:25<02:29, 12.50s/it]"
     ]
    },
    {
     "output_type": "stream",
     "name": "stdout",
     "text": [
      "[ epoch: 87/100  batch: 14/14 ]  loss: 0.148716\n"
     ]
    },
    {
     "output_type": "stream",
     "name": "stderr",
     "text": [
      "14it [00:12,  1.14it/s]\n",
      " 89%|████████▉ | 89/100 [18:38<02:17, 12.50s/it]"
     ]
    },
    {
     "output_type": "stream",
     "name": "stdout",
     "text": [
      "[ epoch: 88/100  batch: 14/14 ]  loss: 0.148698\n"
     ]
    },
    {
     "output_type": "stream",
     "name": "stderr",
     "text": [
      "14it [00:12,  1.13it/s]\n",
      " 90%|█████████ | 90/100 [18:50<02:05, 12.54s/it]"
     ]
    },
    {
     "output_type": "stream",
     "name": "stdout",
     "text": [
      "[ epoch: 89/100  batch: 14/14 ]  loss: 0.148691\n",
      "Model saved at ../model/pretrainedModel/epo89facedet.pt\n"
     ]
    },
    {
     "output_type": "stream",
     "name": "stderr",
     "text": [
      "14it [00:12,  1.15it/s]\n",
      " 91%|█████████ | 91/100 [19:03<01:52, 12.51s/it]"
     ]
    },
    {
     "output_type": "stream",
     "name": "stdout",
     "text": [
      "[ epoch: 90/100  batch: 14/14 ]  loss: 0.148651\n"
     ]
    },
    {
     "output_type": "stream",
     "name": "stderr",
     "text": [
      "14it [00:12,  1.15it/s]\n",
      " 92%|█████████▏| 92/100 [19:15<01:40, 12.50s/it]"
     ]
    },
    {
     "output_type": "stream",
     "name": "stdout",
     "text": [
      "[ epoch: 91/100  batch: 14/14 ]  loss: 0.148677\n"
     ]
    },
    {
     "output_type": "stream",
     "name": "stderr",
     "text": [
      "14it [00:12,  1.16it/s]\n",
      " 93%|█████████▎| 93/100 [19:28<01:27, 12.47s/it]"
     ]
    },
    {
     "output_type": "stream",
     "name": "stdout",
     "text": [
      "[ epoch: 92/100  batch: 14/14 ]  loss: 0.148684\n"
     ]
    },
    {
     "output_type": "stream",
     "name": "stderr",
     "text": [
      "14it [00:12,  1.16it/s]\n",
      " 94%|█████████▍| 94/100 [19:40<01:14, 12.45s/it]"
     ]
    },
    {
     "output_type": "stream",
     "name": "stdout",
     "text": [
      "[ epoch: 93/100  batch: 14/14 ]  loss: 0.148682\n"
     ]
    },
    {
     "output_type": "stream",
     "name": "stderr",
     "text": [
      "14it [00:12,  1.16it/s]\n",
      " 95%|█████████▌| 95/100 [19:52<01:02, 12.44s/it]"
     ]
    },
    {
     "output_type": "stream",
     "name": "stdout",
     "text": [
      "[ epoch: 94/100  batch: 14/14 ]  loss: 0.148692\n",
      "Model saved at ../model/pretrainedModel/epo94facedet.pt\n"
     ]
    },
    {
     "output_type": "stream",
     "name": "stderr",
     "text": [
      "14it [00:12,  1.16it/s]\n",
      " 96%|█████████▌| 96/100 [20:05<00:49, 12.43s/it]"
     ]
    },
    {
     "output_type": "stream",
     "name": "stdout",
     "text": [
      "[ epoch: 95/100  batch: 14/14 ]  loss: 0.148724\n"
     ]
    },
    {
     "output_type": "stream",
     "name": "stderr",
     "text": [
      "14it [00:12,  1.16it/s]\n",
      " 97%|█████████▋| 97/100 [20:17<00:37, 12.42s/it]"
     ]
    },
    {
     "output_type": "stream",
     "name": "stdout",
     "text": [
      "[ epoch: 96/100  batch: 14/14 ]  loss: 0.148745\n"
     ]
    },
    {
     "output_type": "stream",
     "name": "stderr",
     "text": [
      "14it [00:12,  1.16it/s]\n",
      " 98%|█████████▊| 98/100 [20:30<00:24, 12.42s/it]"
     ]
    },
    {
     "output_type": "stream",
     "name": "stdout",
     "text": [
      "[ epoch: 97/100  batch: 14/14 ]  loss: 0.148767\n"
     ]
    },
    {
     "output_type": "stream",
     "name": "stderr",
     "text": [
      "14it [00:12,  1.16it/s]\n",
      " 99%|█████████▉| 99/100 [20:42<00:12, 12.41s/it]"
     ]
    },
    {
     "output_type": "stream",
     "name": "stdout",
     "text": [
      "[ epoch: 98/100  batch: 14/14 ]  loss: 0.148828\n"
     ]
    },
    {
     "output_type": "stream",
     "name": "stderr",
     "text": [
      "14it [00:12,  1.15it/s]\n",
      "100%|██████████| 100/100 [20:55<00:00, 12.55s/it]"
     ]
    },
    {
     "output_type": "stream",
     "name": "stdout",
     "text": [
      "[ epoch: 99/100  batch: 14/14 ]  loss: 0.148897\n",
      "Model saved at ../model/pretrainedModel/epo99facedet.pt\n"
     ]
    },
    {
     "output_type": "stream",
     "name": "stderr",
     "text": [
      "\n"
     ]
    }
   ],
   "metadata": {}
  },
  {
   "cell_type": "code",
   "execution_count": null,
   "source": [
    "torch.save(model.state_dict(), \"../model/pretrainedModel/1000_target_\" + arg_outName)\n",
    "print(\"Model saved at ../model/pretrainedModel/final_\" + arg_outName)"
   ],
   "outputs": [],
   "metadata": {}
  }
 ],
 "metadata": {
  "orig_nbformat": 4,
  "language_info": {
   "name": "python",
   "version": "3.8.8",
   "mimetype": "text/x-python",
   "codemirror_mode": {
    "name": "ipython",
    "version": 3
   },
   "pygments_lexer": "ipython3",
   "nbconvert_exporter": "python",
   "file_extension": ".py"
  },
  "kernelspec": {
   "name": "python3",
   "display_name": "Python 3.8.8 64-bit"
  },
  "interpreter": {
   "hash": "b89933b722b04da96b1a08b87050e378198849112699c322f4a458dc0a02ab73"
  }
 },
 "nbformat": 4,
 "nbformat_minor": 2
}