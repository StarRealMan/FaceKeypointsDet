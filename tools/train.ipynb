{
 "cells": [
  {
   "cell_type": "code",
   "execution_count": 1,
   "source": [
    "import sys\n",
    "sys.path.append(\"..\")\n",
    "import os\n",
    "import torch\n",
    "import torch.nn.functional as F\n",
    "from tqdm import tqdm\n",
    "from torch.utils.tensorboard import SummaryWriter\n"
   ],
   "outputs": [],
   "metadata": {}
  },
  {
   "cell_type": "code",
   "execution_count": null,
   "source": [
    "import utils.dataset as myDataset\n",
    "import utils.loss as myLoss\n",
    "import model.model as myModel\n"
   ],
   "outputs": [],
   "metadata": {}
  },
  {
   "cell_type": "code",
   "execution_count": null,
   "source": [
    "\n",
    "arg_batchSize = 8\n",
    "arg_nEpoch = 50\n",
    "arg_pretrainedModel = None\n",
    "arg_workers = 8\n",
    "arg_dataset = \"../data/\"\n",
    "arg_split = \"train\"\n",
    "arg_outName = \"facedet.pt\"\n"
   ],
   "outputs": [],
   "metadata": {}
  },
  {
   "cell_type": "code",
   "execution_count": null,
   "source": [
    "\n",
    "dataset = myDataset.FaceDataset()\n",
    "dataloader = torch.utils.data.DataLoader(dataset, shuffle = True, batch_size = arg_batchSize, \\\n",
    "                                         num_workers = arg_workers, drop_last = False)"
   ],
   "outputs": [],
   "metadata": {}
  },
  {
   "cell_type": "code",
   "execution_count": null,
   "source": [
    "# dataplotter = visualizer.DataPlotter()\n",
    "writer = SummaryWriter('../log/scene')\n",
    "\n",
    "print('length of dataset: %s' % (len(dataloader)))\n",
    "batch_num = int(len(dataloader) / arg_batchSize + 1)\n",
    "device = torch.device(\"cuda:0\" if torch.cuda.is_available() else \"cpu\")\n",
    "\n",
    "\n",
    "# train process\n",
    "model = myModel.FaceKeypointModel()\n",
    "\n",
    "if arg_pretrainedModel != 'None':\n",
    "    model.load_state_dict(torch.load('../model/' + arg_pretrainedModel))\n",
    "    print('Use model from ../model/' + arg_pretrainedModel)\n",
    "else:\n",
    "    print('Use new model')\n",
    "\n",
    "if not os.path.exists('../model/pretrainedModel'):\n",
    "    os.makedirs('../model/pretrainedModel')\n",
    "\n",
    "model.to(device)\n",
    "optimizer = torch.optim.Adam(model.parameters(),lr=0.0001,betas=(0.9, 0.999))\n",
    "\n",
    "for epoch in tqdm(range(arg_nEpoch)):\n",
    "    for i, data in tqdm(enumerate(dataloader)):\n",
    "        image, anno = data\n",
    "        \n",
    "        loss = myLoss.calLoss()\n",
    "        loss.backward()\n",
    "        optimizer.step()\n",
    "\n",
    "        print('[ epoch: %d/%d  batch: %d/%d ]  loss: %f' % (epoch, arg_nEpoch, i + 1, batch_num, loss.item()))\n",
    "\n",
    "        writer.add_scalar('training loss', loss.item(), epoch*len(dataloader) + i)\n",
    "\n",
    "    if epoch % 30 == 29:\n",
    "        torch.save(model.state_dict(), '../model/pretrainedModel/epo' + str(epoch) + arg_outName)\n",
    "        print('Model saved at ../model/pretrainedModel/epo' + str(epoch) + arg_outName)\n",
    "\n",
    "torch.save(model.state_dict(), '../model/pretrainedModel/final_' + arg_outName)\n",
    "print('Model saved at ../model/pretrainedModel/final_' + arg_outName)"
   ],
   "outputs": [],
   "metadata": {}
  }
 ],
 "metadata": {
  "orig_nbformat": 4,
  "language_info": {
   "name": "python",
   "version": "3.8.5",
   "mimetype": "text/x-python",
   "codemirror_mode": {
    "name": "ipython",
    "version": 3
   },
   "pygments_lexer": "ipython3",
   "nbconvert_exporter": "python",
   "file_extension": ".py"
  },
  "kernelspec": {
   "name": "python3",
   "display_name": "Python 3.8.5 64-bit ('base': conda)"
  },
  "interpreter": {
   "hash": "b89933b722b04da96b1a08b87050e378198849112699c322f4a458dc0a02ab73"
  }
 },
 "nbformat": 4,
 "nbformat_minor": 2
}